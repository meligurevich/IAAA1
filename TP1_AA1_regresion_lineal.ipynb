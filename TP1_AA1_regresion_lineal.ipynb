{
  "nbformat": 4,
  "nbformat_minor": 0,
  "metadata": {
    "colab": {
      "provenance": [],
      "include_colab_link": true
    },
    "kernelspec": {
      "name": "python3",
      "display_name": "Python 3"
    },
    "language_info": {
      "name": "python"
    }
  },
  "cells": [
    {
      "cell_type": "markdown",
      "metadata": {
        "id": "view-in-github",
        "colab_type": "text"
      },
      "source": [
        "<a href=\"https://colab.research.google.com/github/meligurevich/IAAA1/blob/main/TP1_AA1_regresion_lineal.ipynb\" target=\"_parent\"><img src=\"https://colab.research.google.com/assets/colab-badge.svg\" alt=\"Open In Colab\"/></a>"
      ]
    },
    {
      "cell_type": "markdown",
      "source": [
        "# TP1 AA1\n",
        "\n",
        "**CONSTANZA VILLARREAL**"
      ],
      "metadata": {
        "id": "t4CxvZXx6Dmy"
      }
    },
    {
      "cell_type": "markdown",
      "source": [
        "## Indicaciones básicas\n",
        "\n",
        "0) Debe usar este notebook como template para su entrega. Haga una copia y comience a completar las consignas.\n",
        "\n",
        "1) Cada uno debe completar las consignas indicadas en este notebook.\n",
        "\n",
        "2)\n",
        "3) No pueden repetir el mismo dataset que ya haya definido un compañero.\n",
        "\n",
        "4) copias explícitas de secciones enteras del trabajo de otro será penalizado disminuyendo su puntuación.\n",
        "\n",
        "5) No se olvide de añadir las fuentes de inspiración de su código (blogs, prompts de chatgpt o similar).\n",
        "\n",
        "6) Además de todo el código que agregue, es importante que sepa interpretarlo. Agregue texto explicativo en cada sección. Esto le ayudará al momento del coloquio / parcial\n",
        "\n",
        "7) Revise las fecha límite de entrega de este trabajo"
      ],
      "metadata": {
        "id": "BSeucmV-KLmJ"
      }
    },
    {
      "cell_type": "markdown",
      "source": [
        "# ENTREGA"
      ],
      "metadata": {
        "id": "0qigDO5T90h-"
      }
    },
    {
      "cell_type": "markdown",
      "source": [
        "* En el foro destinado a la tarea debe postear al menos tres veces:\n",
        "  - La primera vez para indicar el dataset elegido\n",
        "  - Una segunda vez para postear su entrega\n",
        "  - Una tercera vez para brindar feedback a alguien más en el foro.\n",
        "  - Puede comentar más de un posteo de sus compañeros siempre y cuando el intercambio sea respetuoso y fructífero.\n",
        "* Deben postear como solución un enlace a su notebook colab público y también un enlace al mismo notebook alojado en su repositorio GitHub.\n",
        "* Debe sumar el enlace a un video donde muestre su solución y explique lo realizado. Duración máxima: 5 minutos. Puede grabarse a Ud. mismo usando una sesión de zoom y grabar localmente. Puede subir el video a su youtube personal como privado o Unlisted.\n",
        "* Enlaces no accesibles o enlaces erróneos es igual a determinar que la tarea no ha sido entregada. Corrobore la viabilidad de los enlaces que postea.\n"
      ],
      "metadata": {
        "id": "N4Uno_w694De"
      }
    },
    {
      "cell_type": "markdown",
      "source": [
        "#**Tarea: Aplicación de Regresión Lineal y Análisis de Importancia de Variables**  \n",
        "**Objetivo**: Aplicar un modelo de regresión lineal a un dataset de su elección, evaluar su rendimiento e identificar las variables más relevantes para la predicción.\n",
        "\n",
        "---\n",
        "\n",
        "# **Instrucciones**:\n",
        "\n",
        "#1. **Selección del Dataset**  \n",
        "   - Elijan un dataset de UCI ML Repository del siguiente enlace: https://archive.ics.uci.edu/datasets/?Task=Regression&skip=0&take=10&sort=desc&orderBy=NumHits&search=  \n",
        "   - Requisitos:  \n",
        "     - Debe tener al menos 4 variables numéricas continuas (1 target, 3 o más features).  \n",
        "     - Idealmente, que las features tengan distintas escalas o unidades ( no excluyente).\n",
        "     - Revisar en el foro de la tarea que dicho dataset no haya sido ya elegido por otra persona.\n",
        "     - Postee en el foro de la tarea el dataset que eligió. Continue al siguiente punto.  \n",
        "\n"
      ],
      "metadata": {
        "id": "7WAej0Lx6D91"
      }
    },
    {
      "cell_type": "markdown",
      "source": [
        "DATASET a utilizar: [Computer Hardware](https://archive.ics.uci.edu/dataset/29/computer+hardware)"
      ],
      "metadata": {
        "id": "QdVkCVU2aRJt"
      }
    },
    {
      "cell_type": "markdown",
      "source": [
        "## Resolución:"
      ],
      "metadata": {
        "id": "rTJxJxW28FMc"
      }
    },
    {
      "cell_type": "markdown",
      "source": [
        "\n",
        "## 2. **Análisis exploratorio (previo al modelado)**  \n",
        "   - Describan las variables (media, distribución, outliers).  \n",
        "   - Visualizen:  \n",
        "     - Histogramas o boxplots para ver distribuciones.  \n",
        "     - Gráficos de dispersión (scatterplots) entre features y target.  \n",
        "   - **Pregunta clave**: ¿Qué relaciones lineales preliminares observan?  \n"
      ],
      "metadata": {
        "id": "UWnCaDQP7bbO"
      }
    },
    {
      "cell_type": "code",
      "source": [
        "# Cargar las librerías necesarias\n",
        "import pandas as pd\n",
        "import numpy as np\n",
        "import matplotlib.pyplot as plt\n",
        "import seaborn as sns\n",
        "\n",
        "# Cargar el dataset\n",
        "df = pd.read_csv(\"machine.data\")\n",
        "\n",
        "# Mostrar las primeras filas del dataset para ver las variables\n",
        "print(df.head())"
      ],
      "metadata": {
        "colab": {
          "base_uri": "https://localhost:8080/"
        },
        "id": "8rVzbwH0bCJl",
        "outputId": "31ab1749-5278-44e0-be34-e8caf0682ecc"
      },
      "execution_count": null,
      "outputs": [
        {
          "output_type": "stream",
          "name": "stdout",
          "text": [
            "  adviser    32/60  125   256   6000  256.1  16  128  198  199\n",
            "0  amdahl   470v/7   29  8000  32000     32   8   32  269  253\n",
            "1  amdahl  470v/7a   29  8000  32000     32   8   32  220  253\n",
            "2  amdahl  470v/7b   29  8000  32000     32   8   32  172  253\n",
            "3  amdahl  470v/7c   29  8000  16000     32   8   16  132  132\n",
            "4  amdahl   470v/b   26  8000  32000     64   8   32  318  290\n"
          ]
        }
      ]
    },
    {
      "cell_type": "markdown",
      "source": [
        "1. Importo las librerías necesarias:\n",
        "\n",
        "* *pandas* para manejar datos en formato de tablas.\n",
        "\n",
        "* *numpy* para trabajar con arreglos numéricos.\n",
        "\n",
        "* *matplotlib.pyplot* y seaborn para crear gráficos.\n",
        "\n",
        "2. Cargo el dataset:\n",
        "\n",
        "* Lee el archivo \"machine.data\" que contiene los datos y lo guarda en el DataFrame *df*.\n",
        "\n",
        "3. Muestro las primeras filas del dataset:\n",
        "\n",
        "* Usa *df.head()* para imprimir las primeras 5 filas del archivo, lo cual te permite ver las variables y una pequeña muestra de los datos."
      ],
      "metadata": {
        "id": "CX7ras3EgeH9"
      }
    },
    {
      "cell_type": "code",
      "source": [
        "# Como las columnas no tienen nombres les asigno uno\n",
        "df.columns = ['VendorName', 'ModelName', 'MYCT', 'MMIN', 'MMAX', 'CACH', 'CHMIN', 'CHMAX', 'PRP', 'ERP']\n",
        "\n",
        "# Mostrar las primeras filas con nombres de columnas asignados\n",
        "print(df.head())"
      ],
      "metadata": {
        "colab": {
          "base_uri": "https://localhost:8080/"
        },
        "id": "MVGFMymMdUBc",
        "outputId": "1b13a602-eecc-4b98-c7d7-6521f1277738"
      },
      "execution_count": null,
      "outputs": [
        {
          "output_type": "stream",
          "name": "stdout",
          "text": [
            "  VendorName ModelName  MYCT  MMIN   MMAX  CACH  CHMIN  CHMAX  PRP  ERP\n",
            "0     amdahl    470v/7    29  8000  32000    32      8     32  269  253\n",
            "1     amdahl   470v/7a    29  8000  32000    32      8     32  220  253\n",
            "2     amdahl   470v/7b    29  8000  32000    32      8     32  172  253\n",
            "3     amdahl   470v/7c    29  8000  16000    32      8     16  132  132\n",
            "4     amdahl    470v/b    26  8000  32000    64      8     32  318  290\n"
          ]
        }
      ]
    },
    {
      "cell_type": "markdown",
      "source": [
        "1. Asigno nombres a las columnas:\n",
        "\n",
        "* Como el dataset no tiene nombres de columnas, se les asigna un nombre descriptivo a cada una de las columnas utilizando *df.columns*.\n",
        "\n",
        "* Los nombres que asigna son: 'VendorName', 'ModelName', 'MYCT', 'MMIN', 'MMAX', 'CACH', 'CHMIN', 'CHMAX', 'PRP', 'ERP'.\n",
        "\n",
        "2. Muestro las primeras filas con los nombres de las columnas asignados:\n",
        "\n",
        "* Usa *df.head()* para mostrar las primeras 5 filas del dataset con los nuevos nombres de columnas.\n",
        "\n",
        "Es útil para poder trabajar con el dataset de manera más clara, ya que ahora puedes referirte a las columnas por su nombre en lugar de por índices numéricos"
      ],
      "metadata": {
        "id": "RQeuEd2Ug1sv"
      }
    },
    {
      "cell_type": "code",
      "source": [
        "# Descripción estadística de las variables numéricas\n",
        "print(df.describe())"
      ],
      "metadata": {
        "colab": {
          "base_uri": "https://localhost:8080/"
        },
        "id": "vpovnhgbbzb0",
        "outputId": "834b152a-84e0-4470-fc67-4d943cdf2ca0"
      },
      "execution_count": null,
      "outputs": [
        {
          "output_type": "stream",
          "name": "stdout",
          "text": [
            "              MYCT          MMIN          MMAX        CACH       CHMIN  \\\n",
            "count   208.000000    208.000000    208.000000  208.000000  208.000000   \n",
            "mean    204.201923   2880.538462  11824.019231   24.096154    4.644231   \n",
            "std     260.833016   3883.839300  11747.916663   37.417999    6.787198   \n",
            "min      17.000000     64.000000     64.000000    0.000000    0.000000   \n",
            "25%      50.000000    768.000000   4000.000000    0.000000    1.000000   \n",
            "50%     110.000000   2000.000000   8000.000000    8.000000    2.000000   \n",
            "75%     225.000000   4000.000000  16000.000000   32.000000    6.000000   \n",
            "max    1500.000000  32000.000000  64000.000000  256.000000   52.000000   \n",
            "\n",
            "            CHMAX          PRP          ERP  \n",
            "count  208.000000   208.000000   208.000000  \n",
            "mean    17.740385   105.177885    98.850962  \n",
            "std     24.913375   161.090223   154.974961  \n",
            "min      0.000000     6.000000    15.000000  \n",
            "25%      5.000000    27.000000    28.000000  \n",
            "50%      8.000000    49.500000    45.000000  \n",
            "75%     24.000000   111.500000    99.500000  \n",
            "max    176.000000  1150.000000  1238.000000  \n"
          ]
        }
      ]
    },
    {
      "cell_type": "markdown",
      "source": [
        "Muestra una descripción estadística de las variables numéricas:\n",
        "\n",
        "* df.describe() genera un resumen con estadísticas descriptivas de las columnas numéricas del dataset.\n",
        "\n",
        "* Entre las estadísticas que muestra están:\n",
        "\n",
        "  * Count: Número de valores no nulos.\n",
        "\n",
        "  * Mean: Promedio de los valores.\n",
        "\n",
        "  * Std: Desviación estándar, que indica la dispersión de los valores.\n",
        "\n",
        "  * Min: Valor mínimo.\n",
        "\n",
        "  * 25%: Cuartil 1 (el 25% de los valores son menores a este valor).\n",
        "\n",
        "  * 50%: Mediana (el 50% de los valores son menores a este valor).\n",
        "\n",
        "  * 75%: Cuartil 3 (el 75% de los valores son menores a este valor).\n",
        "\n",
        "  * Max: Valor máximo."
      ],
      "metadata": {
        "id": "M0WQFB18hEqM"
      }
    },
    {
      "cell_type": "code",
      "source": [
        "# Verificar valores faltantes\n",
        "print(df.isnull().sum())"
      ],
      "metadata": {
        "colab": {
          "base_uri": "https://localhost:8080/"
        },
        "id": "qpSyQeEDb2BE",
        "outputId": "d59a624a-5bcc-4675-dc1f-4b9f8a6936fb"
      },
      "execution_count": null,
      "outputs": [
        {
          "output_type": "stream",
          "name": "stdout",
          "text": [
            "VendorName    0\n",
            "ModelName     0\n",
            "MYCT          0\n",
            "MMIN          0\n",
            "MMAX          0\n",
            "CACH          0\n",
            "CHMIN         0\n",
            "CHMAX         0\n",
            "PRP           0\n",
            "ERP           0\n",
            "dtype: int64\n"
          ]
        }
      ]
    },
    {
      "cell_type": "markdown",
      "source": [
        "Verifica la presencia de valores faltantes en el dataset:\n",
        "\n",
        "* *df.isnull().sum()* suma los valores True (que representan los valores faltantes) por cada columna, mostrando cuántos valores faltantes hay en cada una de las columnas del dataset.\n",
        "\n",
        "Este paso es importante porque te permite identificar qué columnas tienen datos faltantes y cuántos, lo cual es útil para decidir cómo manejar esos valores (por ejemplo, imputándolos, eliminándolos, etc.)."
      ],
      "metadata": {
        "id": "uo6ubKk4hZLt"
      }
    },
    {
      "cell_type": "code",
      "source": [
        "# Visualización de histogramas para cada variable numérica\n",
        "df.hist(figsize=(12, 10), bins=20)\n",
        "plt.suptitle(\"Histogramas de las Variables\")\n",
        "plt.show()"
      ],
      "metadata": {
        "colab": {
          "base_uri": "https://localhost:8080/",
          "height": 930
        },
        "id": "roArUlkKb4WE",
        "outputId": "91b51dfa-0bc9-4579-bead-623b2a3bef89"
      },
      "execution_count": null,
      "outputs": [
        {
          "output_type": "display_data",
          "data": {
            "text/plain": [
              "<Figure size 1200x1000 with 9 Axes>"
            ],
            "image/png": "[encoded data removed]"
          },
          "metadata": {}
        }
      ]
    },
    {
      "cell_type": "markdown",
      "source": [
        "Genera histogramas para cada variable numérica en el dataset:\n",
        "\n",
        "* *df.hist(figsize=(12, 10), bins=20)* crea un histograma para cada columna numérica del DataFrame *df*.\n",
        "\n",
        "  * *figsize=(12, 10)* define el tamaño de la figura que contendrá todos los histogramas.\n",
        "\n",
        "  * *bins=20* establece que cada histograma tendrá 20 barras (o intervalos) para representar la distribución de los datos.\n",
        "\n",
        "* *plt.suptitle(\"Histogramas de las Variables\")* agrega un título general para todos los histogramas.\n",
        "\n",
        "* *plt.show()* muestra los gráficos generados.\n",
        "\n",
        "Los histogramas permiten visualizar la distribución de los datos en cada variable numérica, ayudando a identificar patrones, sesgos, distribuciones simétricas o asimétricas, y la presencia de posibles valores atípicos (outliers)"
      ],
      "metadata": {
        "id": "73LVFGMXhr_k"
      }
    },
    {
      "cell_type": "code",
      "source": [
        "# Boxplots para detectar outliers\n",
        "plt.figure(figsize=(12, 10))\n",
        "for i, col in enumerate(df.columns[2:]):  # Excluimos las columnas categóricas\n",
        "    plt.subplot(3, 4, i + 1)\n",
        "    sns.boxplot(x=df[col])\n",
        "    plt.title(f\"Boxplot de {col}\")\n",
        "plt.tight_layout()\n",
        "plt.show()"
      ],
      "metadata": {
        "colab": {
          "base_uri": "https://localhost:8080/",
          "height": 707
        },
        "id": "ngKLz6V3b7CE",
        "outputId": "d036ae73-afdc-4aeb-900a-0895d2daebee"
      },
      "execution_count": null,
      "outputs": [
        {
          "output_type": "display_data",
          "data": {
            "text/plain": [
              "<Figure size 1200x1000 with 8 Axes>"
            ],
            "image/png": "[encoded data removed]"
          },
          "metadata": {}
        }
      ]
    },
    {
      "cell_type": "markdown",
      "source": [
        "Genera boxplots para cada variable numérica en el dataset:\n",
        "\n",
        "* *plt.figure(figsize=(12, 10))* establece el tamaño de la figura para mostrar todos los boxplots.\n",
        "\n",
        "* *for i, col in enumerate(df.columns[2:])*: se recorre cada columna numérica en el dataset (se excluyen las dos primeras columnas, que son categóricas).\n",
        "\n",
        "  * *df.columns[2:]* selecciona todas las columnas a partir de la tercera, que son las variables numéricas.\n",
        "\n",
        "* *plt.subplot(3, 4, i + 1)* organiza los boxplots en una cuadrícula de 3 filas y 4 columnas, y coloca cada gráfico en la posición correspondiente.\n",
        "\n",
        "* *sns.boxplot(x=df[col])* genera un boxplot para cada columna col, mostrando su distribución, valores centrales, y cualquier valor atípico (outliers) que pueda existir.\n",
        "\n",
        "* *plt.title(f\"Boxplot de {col}\")* añade un título al boxplot correspondiente a cada variable.\n",
        "\n",
        "* *plt.tight_layout()* ajusta el espacio entre los gráficos para que se vean de manera ordenada.\n",
        "\n",
        "* *plt.show()* muestra todos los boxplots generados."
      ],
      "metadata": {
        "id": "a5g7aZmQi9az"
      }
    },
    {
      "cell_type": "code",
      "source": [
        "# Gráficos de dispersión entre las características y el PRP\n",
        "plt.figure(figsize=(12, 10))\n",
        "for i, col in enumerate(df.columns[2:]):  # Excluimos las columnas categóricas\n",
        "    plt.subplot(3, 4, i + 1)\n",
        "    plt.scatter(df[col], df['PRP'])  # 'PRP' es el nombre del objetivo\n",
        "    plt.title(f\"{col} vs PRP\")\n",
        "    plt.xlabel(col)\n",
        "    plt.ylabel('PRP')\n",
        "plt.tight_layout()\n",
        "plt.show()"
      ],
      "metadata": {
        "colab": {
          "base_uri": "https://localhost:8080/",
          "height": 707
        },
        "id": "0aT6yA0nb9mV",
        "outputId": "91a2a316-a8e5-4b2c-e9e0-6a9e05f98e89"
      },
      "execution_count": null,
      "outputs": [
        {
          "output_type": "display_data",
          "data": {
            "text/plain": [
              "<Figure size 1200x1000 with 8 Axes>"
            ],
            "image/png": "[encoded data removed]"
          },
          "metadata": {}
        }
      ]
    },
    {
      "cell_type": "markdown",
      "source": [
        "Elegí **PRP (Published Relative Performance)** como objetivo porque es una medida directa del rendimiento de las máquinas, lo que la hace una variable más clara y confiable para predecir. Al ser un valor numérico que refleja el desempeño real, facilita el análisis y modelado de las relaciones con las otras características de las máquinas. Esto hace que sea una opción más sencilla y adecuada para construir un modelo de regresión.\n",
        "\n",
        "\n",
        "\n",
        "\n",
        "\n",
        "\n",
        "\n",
        "\n"
      ],
      "metadata": {
        "id": "jNt-K_L2fn2E"
      }
    },
    {
      "cell_type": "code",
      "source": [
        "# Codificación de las variables categóricas con One-Hot Encoding\n",
        "#df_encoded = pd.get_dummies(df, columns=['VendorName', 'ModelName'])\n",
        "#print(df_encoded.head())"
      ],
      "metadata": {
        "id": "hNWUd1ZjbnwN"
      },
      "execution_count": null,
      "outputs": []
    },
    {
      "cell_type": "markdown",
      "source": [
        "En base a los gráficos de dispersión y la descripción estadística, se puede concluir preliminarmente que existen **relaciones lineales positivas** entre 'PRP' y las variables 'MYCT', 'MMIN', 'MMAX', 'CACH', 'CHMIN', 'CHMAX'. La relación es más fuerte para 'MYCT', 'MMIN', 'MMAX'. La variable 'ERP' muestra una relación más débil o posiblemente no lineal con 'PRP'.\n",
        "\n",
        "Es importante tener en cuenta que estas *son observaciones preliminares*."
      ],
      "metadata": {
        "id": "lGBS5lxg8LqR"
      }
    },
    {
      "cell_type": "markdown",
      "source": [
        "**Conclusión del Análisis:**\n",
        "\n",
        "* MYCT, MMIN, MMAX, CACH, CHMIN, CHMAX: Estas variables muestran una distribución que se asemeja a una distribución exponencial o similar, donde la mayoría de las máquinas tienen un valor bajo y hay algunas con valores muy altos, esto se puede asociar con distintos tipos de máquinas.\n",
        "* PRP, ERP: Estas variables, por el contrario, muestran una distribución ligeramente más simétrica, con valores más concentrados en un rango medio, con algo de sesgo hacia la izquierda.\n",
        "* Outliers: De acuerdo con los boxplots, los datos pueden contener outliers, esto coincide con las formas de los histogramas previamente mencionadas. Por ejemplo, en las variables MYCT, MMIN, MMAX, CACH, CHMIN, CHMAX, se observa un sesgo a la derecha que coincide con los outliers."
      ],
      "metadata": {
        "id": "xnnfgn8Siwgf"
      }
    },
    {
      "cell_type": "markdown",
      "source": [
        "## 3. **Preprocesamiento**  \n",
        "   - Limpieza: Manejen missing values (eliminar, imputar) y outliers (si es necesario).  \n",
        "   - Limpieza: indique cuáles features descarta. Justifique.\n",
        "   - Indique si usará o no variables categóricas. Justifique. Realice su preprocesamiento adeucado.\n",
        "   - Escalen las features (p.ej., StandardScaler) para comparar coeficientes después.  \n",
        "   - Dividan en train/test (70-30 o 80-20).  "
      ],
      "metadata": {
        "id": "A1Ajkh2O70cd"
      }
    },
    {
      "cell_type": "markdown",
      "source": [
        "**1. Limpieza de datos**\n",
        "\n",
        "¿Hay valores faltantes? Ya verificamos con df.isnull().sum() y vimos que no hay valores faltantes, así que no es necesario eliminar ni imputar datos.\n",
        "\n",
        "¿Qué pasa con los outliers? En los boxplots ya visualicé que hay algunos outliers. Por ahora no los eliminaré, a menos que luego vea que afectan mucho al modelo. Se pueden dejar si no son errores.\n",
        "\n",
        "**2. Selección de features**\n",
        "\n",
        "Voy a descartar las variables categóricas: VendorName y ModelName. La justificación es porque tienen muchos valores únicos y no aportan directamente al rendimiento numérico (PRP). Además, mi objetivo es simplificar el modelo en esta etapa.\n",
        "\n",
        "**3. Variables categóricas**\n",
        "\n",
        "No usaré variables categóricas por ahora, para mantener un modelo sencillo de regresión lineal.\n",
        "\n",
        "**4. Escalado de las features**\n",
        "\n",
        "Usaré StandardScaler para estandarizar las variables numéricas.\n",
        "\n",
        "¿Por qué? Porque quiero que todas las features tengan una escala similar. Esto:\n",
        "\n",
        "* Mejora el rendimiento de algunos modelos.\n",
        "\n",
        "* Permite comparar los coeficientes más fácilmente.\n",
        "\n",
        "**5. División en conjunto de entrenamiento y prueba**\n",
        "\n",
        "Usaré una división 80-20:\n",
        "\n",
        "* 80% de los datos para entrenar el modelo.\n",
        "\n",
        "* 20% para evaluarlo.\n"
      ],
      "metadata": {
        "id": "GAFwpq-rdQJJ"
      }
    },
    {
      "cell_type": "code",
      "source": [
        "# Importo las librerías necesarias\n",
        "from sklearn.model_selection import train_test_split\n",
        "from sklearn.preprocessing import StandardScaler\n",
        "\n",
        "# Elimino columnas categóricas que no voy a usar\n",
        "df_num = df.drop(columns=['VendorName', 'ModelName'])  # Solo dejo variables numéricas\n",
        "\n",
        "# Separo features (X) y target (y)\n",
        "X = df_num.drop(columns=['PRP'])  # Todas las columnas menos PRP\n",
        "y = df_num['PRP']  # Esta es nuestra variable objetivo\n",
        "\n",
        "# Escalar las variables con StandardScaler\n",
        "scaler = StandardScaler()\n",
        "X_scaled = scaler.fit_transform(X)\n",
        "\n",
        "# División en entrenamiento y prueba (80% - 20%)\n",
        "X_train, X_test, y_train, y_test = train_test_split(X_scaled, y, test_size=0.2, random_state=42)\n",
        "\n",
        "# Mostrar para confirmar\n",
        "print(\"Forma de X_train:\", X_train.shape)\n",
        "print(\"Forma de X_test:\", X_test.shape)\n"
      ],
      "metadata": {
        "colab": {
          "base_uri": "https://localhost:8080/"
        },
        "id": "bmhGFpzXez1S",
        "outputId": "a6dc0b62-f919-4018-cc25-c85a0a104580"
      },
      "execution_count": null,
      "outputs": [
        {
          "output_type": "stream",
          "name": "stdout",
          "text": [
            "Forma de X_train: (166, 7)\n",
            "Forma de X_test: (42, 7)\n"
          ]
        }
      ]
    },
    {
      "cell_type": "markdown",
      "source": [
        "Ese resultado confirma que todo salió bien:\n",
        "\n",
        "* Tengo 166 muestras para entrenamiento.\n",
        "\n",
        "* Y 42 muestras para testeo.\n",
        "\n",
        "* Cada una con 7 features numéricas (ya sin las categóricas y sin la columna PRP que es tu objetivo)."
      ],
      "metadata": {
        "id": "y7sVuQOm76ix"
      }
    },
    {
      "cell_type": "markdown",
      "source": [
        "\n",
        "\n",
        "\n",
        "## 4. **Regresión Lineal**  \n",
        "   - Ajusten un modelo de regresión lineal (usando `sklearn.linear_model.LinearRegression`).  \n",
        "   - Obtengan:  \n",
        "     - Coeficientes (pesos) del modelo.  \n",
        "     - Evaluar métricas en el set de entrenamiento y en el de testeo: **R²**, MSE (error cuadrático medio), MAE.  \n"
      ],
      "metadata": {
        "id": "8z3BaKBi70w2"
      }
    },
    {
      "cell_type": "code",
      "source": [
        "# 1. Importamos las librerías necesarias para crear el modelo y medir su rendimiento\n",
        "from sklearn.linear_model import LinearRegression\n",
        "from sklearn.metrics import r2_score, mean_squared_error, mean_absolute_error"
      ],
      "metadata": {
        "id": "qRyxmspU9YMo"
      },
      "execution_count": null,
      "outputs": []
    },
    {
      "cell_type": "markdown",
      "source": [
        "Estas bibliotecas nos permiten crear el modelo de regresión lineal y calcular métricas como R², MSE y MAE."
      ],
      "metadata": {
        "id": "nhcf717DieAx"
      }
    },
    {
      "cell_type": "code",
      "source": [
        "# 2. Creamos un objeto del modelo de regresión lineal\n",
        "modelo = LinearRegression() #Acá creamos el modelo vacío, aún no está entrenado"
      ],
      "metadata": {
        "id": "AVDxtMpFie8i"
      },
      "execution_count": null,
      "outputs": []
    },
    {
      "cell_type": "code",
      "source": [
        "# 3. Entrenamos (ajustamos) el modelo usando los datos de entrenamiento\n",
        "modelo.fit(X_train, y_train) #El modelo aprende la relación entre las variables predictoras (X_train) y el objetivo (y_train)"
      ],
      "metadata": {
        "colab": {
          "base_uri": "https://localhost:8080/",
          "height": 80
        },
        "id": "Az0JhiQGir9a",
        "outputId": "25dec45f-b755-4829-b9b1-26dc4deda747"
      },
      "execution_count": null,
      "outputs": [
        {
          "output_type": "execute_result",
          "data": {
            "text/plain": [
              "LinearRegression()"
            ],
            "text/html": [
              "<style>#sk-container-id-1 {\n",
              "  /* Definition of color scheme common for light and dark mode */\n",
              "  --sklearn-color-text: #000;\n",
              "  --sklearn-color-text-muted: #666;\n",
              "  --sklearn-color-line: gray;\n",
              "  /* Definition of color scheme for unfitted estimators */\n",
              "  --sklearn-color-unfitted-level-0: #fff5e6;\n",
              "  --sklearn-color-unfitted-level-1: #f6e4d2;\n",
              "  --sklearn-color-unfitted-level-2: #ffe0b3;\n",
              "  --sklearn-color-unfitted-level-3: chocolate;\n",
              "  /* Definition of color scheme for fitted estimators */\n",
              "  --sklearn-color-fitted-level-0: #f0f8ff;\n",
              "  --sklearn-color-fitted-level-1: #d4ebff;\n",
              "  --sklearn-color-fitted-level-2: #b3dbfd;\n",
              "  --sklearn-color-fitted-level-3: cornflowerblue;\n",
              "\n",
              "  /* Specific color for light theme */\n",
              "  --sklearn-color-text-on-default-background: var(--sg-text-color, var(--theme-code-foreground, var(--jp-content-font-color1, black)));\n",
              "  --sklearn-color-background: var(--sg-background-color, var(--theme-background, var(--jp-layout-color0, white)));\n",
              "  --sklearn-color-border-box: var(--sg-text-color, var(--theme-code-foreground, var(--jp-content-font-color1, black)));\n",
              "  --sklearn-color-icon: #696969;\n",
              "\n",
              "  @media (prefers-color-scheme: dark) {\n",
              "    /* Redefinition of color scheme for dark theme */\n",
              "    --sklearn-color-text-on-default-background: var(--sg-text-color, var(--theme-code-foreground, var(--jp-content-font-color1, white)));\n",
              "    --sklearn-color-background: var(--sg-background-color, var(--theme-background, var(--jp-layout-color0, #111)));\n",
              "    --sklearn-color-border-box: var(--sg-text-color, var(--theme-code-foreground, var(--jp-content-font-color1, white)));\n",
              "    --sklearn-color-icon: #878787;\n",
              "  }\n",
              "}\n",
              "\n",
              "#sk-container-id-1 {\n",
              "  color: var(--sklearn-color-text);\n",
              "}\n",
              "\n",
              "#sk-container-id-1 pre {\n",
              "  padding: 0;\n",
              "}\n",
              "\n",
              "#sk-container-id-1 input.sk-hidden--visually {\n",
              "  border: 0;\n",
              "  clip: rect(1px 1px 1px 1px);\n",
              "  clip: rect(1px, 1px, 1px, 1px);\n",
              "  height: 1px;\n",
              "  margin: -1px;\n",
              "  overflow: hidden;\n",
              "  padding: 0;\n",
              "  position: absolute;\n",
              "  width: 1px;\n",
              "}\n",
              "\n",
              "#sk-container-id-1 div.sk-dashed-wrapped {\n",
              "  border: 1px dashed var(--sklearn-color-line);\n",
              "  margin: 0 0.4em 0.5em 0.4em;\n",
              "  box-sizing: border-box;\n",
              "  padding-bottom: 0.4em;\n",
              "  background-color: var(--sklearn-color-background);\n",
              "}\n",
              "\n",
              "#sk-container-id-1 div.sk-container {\n",
              "  /* jupyter's `normalize.less` sets `[hidden] { display: none; }`\n",
              "     but bootstrap.min.css set `[hidden] { display: none !important; }`\n",
              "     so we also need the `!important` here to be able to override the\n",
              "     default hidden behavior on the sphinx rendered scikit-learn.org.\n",
              "     See: https://github.com/scikit-learn/scikit-learn/issues/21755 */\n",
              "  display: inline-block !important;\n",
              "  position: relative;\n",
              "}\n",
              "\n",
              "#sk-container-id-1 div.sk-text-repr-fallback {\n",
              "  display: none;\n",
              "}\n",
              "\n",
              "div.sk-parallel-item,\n",
              "div.sk-serial,\n",
              "div.sk-item {\n",
              "  /* draw centered vertical line to link estimators */\n",
              "  background-image: linear-gradient(var(--sklearn-color-text-on-default-background), var(--sklearn-color-text-on-default-background));\n",
              "  background-size: 2px 100%;\n",
              "  background-repeat: no-repeat;\n",
              "  background-position: center center;\n",
              "}\n",
              "\n",
              "/* Parallel-specific style estimator block */\n",
              "\n",
              "#sk-container-id-1 div.sk-parallel-item::after {\n",
              "  content: \"\";\n",
              "  width: 100%;\n",
              "  border-bottom: 2px solid var(--sklearn-color-text-on-default-background);\n",
              "  flex-grow: 1;\n",
              "}\n",
              "\n",
              "#sk-container-id-1 div.sk-parallel {\n",
              "  display: flex;\n",
              "  align-items: stretch;\n",
              "  justify-content: center;\n",
              "  background-color: var(--sklearn-color-background);\n",
              "  position: relative;\n",
              "}\n",
              "\n",
              "#sk-container-id-1 div.sk-parallel-item {\n",
              "  display: flex;\n",
              "  flex-direction: column;\n",
              "}\n",
              "\n",
              "#sk-container-id-1 div.sk-parallel-item:first-child::after {\n",
              "  align-self: flex-end;\n",
              "  width: 50%;\n",
              "}\n",
              "\n",
              "#sk-container-id-1 div.sk-parallel-item:last-child::after {\n",
              "  align-self: flex-start;\n",
              "  width: 50%;\n",
              "}\n",
              "\n",
              "#sk-container-id-1 div.sk-parallel-item:only-child::after {\n",
              "  width: 0;\n",
              "}\n",
              "\n",
              "/* Serial-specific style estimator block */\n",
              "\n",
              "#sk-container-id-1 div.sk-serial {\n",
              "  display: flex;\n",
              "  flex-direction: column;\n",
              "  align-items: center;\n",
              "  background-color: var(--sklearn-color-background);\n",
              "  padding-right: 1em;\n",
              "  padding-left: 1em;\n",
              "}\n",
              "\n",
              "\n",
              "/* Toggleable style: style used for estimator/Pipeline/ColumnTransformer box that is\n",
              "clickable and can be expanded/collapsed.\n",
              "- Pipeline and ColumnTransformer use this feature and define the default style\n",
              "- Estimators will overwrite some part of the style using the `sk-estimator` class\n",
              "*/\n",
              "\n",
              "/* Pipeline and ColumnTransformer style (default) */\n",
              "\n",
              "#sk-container-id-1 div.sk-toggleable {\n",
              "  /* Default theme specific background. It is overwritten whether we have a\n",
              "  specific estimator or a Pipeline/ColumnTransformer */\n",
              "  background-color: var(--sklearn-color-background);\n",
              "}\n",
              "\n",
              "/* Toggleable label */\n",
              "#sk-container-id-1 label.sk-toggleable__label {\n",
              "  cursor: pointer;\n",
              "  display: flex;\n",
              "  width: 100%;\n",
              "  margin-bottom: 0;\n",
              "  padding: 0.5em;\n",
              "  box-sizing: border-box;\n",
              "  text-align: center;\n",
              "  align-items: start;\n",
              "  justify-content: space-between;\n",
              "  gap: 0.5em;\n",
              "}\n",
              "\n",
              "#sk-container-id-1 label.sk-toggleable__label .caption {\n",
              "  font-size: 0.6rem;\n",
              "  font-weight: lighter;\n",
              "  color: var(--sklearn-color-text-muted);\n",
              "}\n",
              "\n",
              "#sk-container-id-1 label.sk-toggleable__label-arrow:before {\n",
              "  /* Arrow on the left of the label */\n",
              "  content: \"▸\";\n",
              "  float: left;\n",
              "  margin-right: 0.25em;\n",
              "  color: var(--sklearn-color-icon);\n",
              "}\n",
              "\n",
              "#sk-container-id-1 label.sk-toggleable__label-arrow:hover:before {\n",
              "  color: var(--sklearn-color-text);\n",
              "}\n",
              "\n",
              "/* Toggleable content - dropdown */\n",
              "\n",
              "#sk-container-id-1 div.sk-toggleable__content {\n",
              "  max-height: 0;\n",
              "  max-width: 0;\n",
              "  overflow: hidden;\n",
              "  text-align: left;\n",
              "  /* unfitted */\n",
              "  background-color: var(--sklearn-color-unfitted-level-0);\n",
              "}\n",
              "\n",
              "#sk-container-id-1 div.sk-toggleable__content.fitted {\n",
              "  /* fitted */\n",
              "  background-color: var(--sklearn-color-fitted-level-0);\n",
              "}\n",
              "\n",
              "#sk-container-id-1 div.sk-toggleable__content pre {\n",
              "  margin: 0.2em;\n",
              "  border-radius: 0.25em;\n",
              "  color: var(--sklearn-color-text);\n",
              "  /* unfitted */\n",
              "  background-color: var(--sklearn-color-unfitted-level-0);\n",
              "}\n",
              "\n",
              "#sk-container-id-1 div.sk-toggleable__content.fitted pre {\n",
              "  /* unfitted */\n",
              "  background-color: var(--sklearn-color-fitted-level-0);\n",
              "}\n",
              "\n",
              "#sk-container-id-1 input.sk-toggleable__control:checked~div.sk-toggleable__content {\n",
              "  /* Expand drop-down */\n",
              "  max-height: 200px;\n",
              "  max-width: 100%;\n",
              "  overflow: auto;\n",
              "}\n",
              "\n",
              "#sk-container-id-1 input.sk-toggleable__control:checked~label.sk-toggleable__label-arrow:before {\n",
              "  content: \"▾\";\n",
              "}\n",
              "\n",
              "/* Pipeline/ColumnTransformer-specific style */\n",
              "\n",
              "#sk-container-id-1 div.sk-label input.sk-toggleable__control:checked~label.sk-toggleable__label {\n",
              "  color: var(--sklearn-color-text);\n",
              "  background-color: var(--sklearn-color-unfitted-level-2);\n",
              "}\n",
              "\n",
              "#sk-container-id-1 div.sk-label.fitted input.sk-toggleable__control:checked~label.sk-toggleable__label {\n",
              "  background-color: var(--sklearn-color-fitted-level-2);\n",
              "}\n",
              "\n",
              "/* Estimator-specific style */\n",
              "\n",
              "/* Colorize estimator box */\n",
              "#sk-container-id-1 div.sk-estimator input.sk-toggleable__control:checked~label.sk-toggleable__label {\n",
              "  /* unfitted */\n",
              "  background-color: var(--sklearn-color-unfitted-level-2);\n",
              "}\n",
              "\n",
              "#sk-container-id-1 div.sk-estimator.fitted input.sk-toggleable__control:checked~label.sk-toggleable__label {\n",
              "  /* fitted */\n",
              "  background-color: var(--sklearn-color-fitted-level-2);\n",
              "}\n",
              "\n",
              "#sk-container-id-1 div.sk-label label.sk-toggleable__label,\n",
              "#sk-container-id-1 div.sk-label label {\n",
              "  /* The background is the default theme color */\n",
              "  color: var(--sklearn-color-text-on-default-background);\n",
              "}\n",
              "\n",
              "/* On hover, darken the color of the background */\n",
              "#sk-container-id-1 div.sk-label:hover label.sk-toggleable__label {\n",
              "  color: var(--sklearn-color-text);\n",
              "  background-color: var(--sklearn-color-unfitted-level-2);\n",
              "}\n",
              "\n",
              "/* Label box, darken color on hover, fitted */\n",
              "#sk-container-id-1 div.sk-label.fitted:hover label.sk-toggleable__label.fitted {\n",
              "  color: var(--sklearn-color-text);\n",
              "  background-color: var(--sklearn-color-fitted-level-2);\n",
              "}\n",
              "\n",
              "/* Estimator label */\n",
              "\n",
              "#sk-container-id-1 div.sk-label label {\n",
              "  font-family: monospace;\n",
              "  font-weight: bold;\n",
              "  display: inline-block;\n",
              "  line-height: 1.2em;\n",
              "}\n",
              "\n",
              "#sk-container-id-1 div.sk-label-container {\n",
              "  text-align: center;\n",
              "}\n",
              "\n",
              "/* Estimator-specific */\n",
              "#sk-container-id-1 div.sk-estimator {\n",
              "  font-family: monospace;\n",
              "  border: 1px dotted var(--sklearn-color-border-box);\n",
              "  border-radius: 0.25em;\n",
              "  box-sizing: border-box;\n",
              "  margin-bottom: 0.5em;\n",
              "  /* unfitted */\n",
              "  background-color: var(--sklearn-color-unfitted-level-0);\n",
              "}\n",
              "\n",
              "#sk-container-id-1 div.sk-estimator.fitted {\n",
              "  /* fitted */\n",
              "  background-color: var(--sklearn-color-fitted-level-0);\n",
              "}\n",
              "\n",
              "/* on hover */\n",
              "#sk-container-id-1 div.sk-estimator:hover {\n",
              "  /* unfitted */\n",
              "  background-color: var(--sklearn-color-unfitted-level-2);\n",
              "}\n",
              "\n",
              "#sk-container-id-1 div.sk-estimator.fitted:hover {\n",
              "  /* fitted */\n",
              "  background-color: var(--sklearn-color-fitted-level-2);\n",
              "}\n",
              "\n",
              "/* Specification for estimator info (e.g. \"i\" and \"?\") */\n",
              "\n",
              "/* Common style for \"i\" and \"?\" */\n",
              "\n",
              ".sk-estimator-doc-link,\n",
              "a:link.sk-estimator-doc-link,\n",
              "a:visited.sk-estimator-doc-link {\n",
              "  float: right;\n",
              "  font-size: smaller;\n",
              "  line-height: 1em;\n",
              "  font-family: monospace;\n",
              "  background-color: var(--sklearn-color-background);\n",
              "  border-radius: 1em;\n",
              "  height: 1em;\n",
              "  width: 1em;\n",
              "  text-decoration: none !important;\n",
              "  margin-left: 0.5em;\n",
              "  text-align: center;\n",
              "  /* unfitted */\n",
              "  border: var(--sklearn-color-unfitted-level-1) 1pt solid;\n",
              "  color: var(--sklearn-color-unfitted-level-1);\n",
              "}\n",
              "\n",
              ".sk-estimator-doc-link.fitted,\n",
              "a:link.sk-estimator-doc-link.fitted,\n",
              "a:visited.sk-estimator-doc-link.fitted {\n",
              "  /* fitted */\n",
              "  border: var(--sklearn-color-fitted-level-1) 1pt solid;\n",
              "  color: var(--sklearn-color-fitted-level-1);\n",
              "}\n",
              "\n",
              "/* On hover */\n",
              "div.sk-estimator:hover .sk-estimator-doc-link:hover,\n",
              ".sk-estimator-doc-link:hover,\n",
              "div.sk-label-container:hover .sk-estimator-doc-link:hover,\n",
              ".sk-estimator-doc-link:hover {\n",
              "  /* unfitted */\n",
              "  background-color: var(--sklearn-color-unfitted-level-3);\n",
              "  color: var(--sklearn-color-background);\n",
              "  text-decoration: none;\n",
              "}\n",
              "\n",
              "div.sk-estimator.fitted:hover .sk-estimator-doc-link.fitted:hover,\n",
              ".sk-estimator-doc-link.fitted:hover,\n",
              "div.sk-label-container:hover .sk-estimator-doc-link.fitted:hover,\n",
              ".sk-estimator-doc-link.fitted:hover {\n",
              "  /* fitted */\n",
              "  background-color: var(--sklearn-color-fitted-level-3);\n",
              "  color: var(--sklearn-color-background);\n",
              "  text-decoration: none;\n",
              "}\n",
              "\n",
              "/* Span, style for the box shown on hovering the info icon */\n",
              ".sk-estimator-doc-link span {\n",
              "  display: none;\n",
              "  z-index: 9999;\n",
              "  position: relative;\n",
              "  font-weight: normal;\n",
              "  right: .2ex;\n",
              "  padding: .5ex;\n",
              "  margin: .5ex;\n",
              "  width: min-content;\n",
              "  min-width: 20ex;\n",
              "  max-width: 50ex;\n",
              "  color: var(--sklearn-color-text);\n",
              "  box-shadow: 2pt 2pt 4pt #999;\n",
              "  /* unfitted */\n",
              "  background: var(--sklearn-color-unfitted-level-0);\n",
              "  border: .5pt solid var(--sklearn-color-unfitted-level-3);\n",
              "}\n",
              "\n",
              ".sk-estimator-doc-link.fitted span {\n",
              "  /* fitted */\n",
              "  background: var(--sklearn-color-fitted-level-0);\n",
              "  border: var(--sklearn-color-fitted-level-3);\n",
              "}\n",
              "\n",
              ".sk-estimator-doc-link:hover span {\n",
              "  display: block;\n",
              "}\n",
              "\n",
              "/* \"?\"-specific style due to the `<a>` HTML tag */\n",
              "\n",
              "#sk-container-id-1 a.estimator_doc_link {\n",
              "  float: right;\n",
              "  font-size: 1rem;\n",
              "  line-height: 1em;\n",
              "  font-family: monospace;\n",
              "  background-color: var(--sklearn-color-background);\n",
              "  border-radius: 1rem;\n",
              "  height: 1rem;\n",
              "  width: 1rem;\n",
              "  text-decoration: none;\n",
              "  /* unfitted */\n",
              "  color: var(--sklearn-color-unfitted-level-1);\n",
              "  border: var(--sklearn-color-unfitted-level-1) 1pt solid;\n",
              "}\n",
              "\n",
              "#sk-container-id-1 a.estimator_doc_link.fitted {\n",
              "  /* fitted */\n",
              "  border: var(--sklearn-color-fitted-level-1) 1pt solid;\n",
              "  color: var(--sklearn-color-fitted-level-1);\n",
              "}\n",
              "\n",
              "/* On hover */\n",
              "#sk-container-id-1 a.estimator_doc_link:hover {\n",
              "  /* unfitted */\n",
              "  background-color: var(--sklearn-color-unfitted-level-3);\n",
              "  color: var(--sklearn-color-background);\n",
              "  text-decoration: none;\n",
              "}\n",
              "\n",
              "#sk-container-id-1 a.estimator_doc_link.fitted:hover {\n",
              "  /* fitted */\n",
              "  background-color: var(--sklearn-color-fitted-level-3);\n",
              "}\n",
              "</style><div id=\"sk-container-id-1\" class=\"sk-top-container\"><div class=\"sk-text-repr-fallback\"><pre>LinearRegression()</pre><b>In a Jupyter environment, please rerun this cell to show the HTML representation or trust the notebook. <br />On GitHub, the HTML representation is unable to render, please try loading this page with nbviewer.org.</b></div><div class=\"sk-container\" hidden><div class=\"sk-item\"><div class=\"sk-estimator fitted sk-toggleable\"><input class=\"sk-toggleable__control sk-hidden--visually\" id=\"sk-estimator-id-1\" type=\"checkbox\" checked><label for=\"sk-estimator-id-1\" class=\"sk-toggleable__label fitted sk-toggleable__label-arrow\"><div><div>LinearRegression</div></div><div><a class=\"sk-estimator-doc-link fitted\" rel=\"noreferrer\" target=\"_blank\" href=\"https://scikit-learn.org/1.6/modules/generated/sklearn.linear_model.LinearRegression.html\">?<span>Documentation for LinearRegression</span></a><span class=\"sk-estimator-doc-link fitted\">i<span>Fitted</span></span></div></label><div class=\"sk-toggleable__content fitted\"><pre>LinearRegression()</pre></div> </div></div></div></div>"
            ]
          },
          "metadata": {},
          "execution_count": 22
        }
      ]
    },
    {
      "cell_type": "code",
      "source": [
        "# 4. Mostramos el intercepto (ordenada al origen) y los coeficientes del modelo\n",
        "print(\"Intercepto:\", modelo.intercept_)\n",
        "print(\"Coeficientes:\", modelo.coef_)"
      ],
      "metadata": {
        "colab": {
          "base_uri": "https://localhost:8080/"
        },
        "id": "T15YgRv-i01i",
        "outputId": "c3af5053-6c52-41ac-f1ba-720d3b3c4b31"
      },
      "execution_count": null,
      "outputs": [
        {
          "output_type": "stream",
          "name": "stdout",
          "text": [
            "Intercepto: 107.12882676441338\n",
            "Coeficientes: [ -1.00626742   8.60366237 -16.62166968  30.87812251  -9.42625774\n",
            "  11.41344583 145.64561976]\n"
          ]
        }
      ]
    },
    {
      "cell_type": "markdown",
      "source": [
        "Esto muestra el peso que el modelo asignó a cada variable. Nos permite interpretar la influencia de cada una en la predicción."
      ],
      "metadata": {
        "id": "1IxceRwpi5aS"
      }
    },
    {
      "cell_type": "code",
      "source": [
        "# 5. Hacemos predicciones con el modelo para el conjunto de entrenamiento y test\n",
        "y_train_pred = modelo.predict(X_train)\n",
        "y_test_pred = modelo.predict(X_test)\n",
        "\n",
        "# El modelo ya entrenado predice los valores de PRP tanto en entrenamiento como en prueba."
      ],
      "metadata": {
        "id": "JhbMCoxKi-WT"
      },
      "execution_count": null,
      "outputs": []
    },
    {
      "cell_type": "code",
      "source": [
        "# 6. Calculamos métricas de rendimiento para el conjunto de entrenamiento\n",
        "r2_train = r2_score(y_train, y_train_pred)             # Qué tan bien ajusta el modelo (1 es perfecto)\n",
        "mse_train = mean_squared_error(y_train, y_train_pred)  # Error cuadrático medio (penaliza errores grandes)\n",
        "mae_train = mean_absolute_error(y_train, y_train_pred) # Error absoluto medio (promedio del error)\n",
        "\n",
        "# 7. Calculamos métricas para el conjunto de prueba (test)\n",
        "r2_test = r2_score(y_test, y_test_pred)\n",
        "mse_test = mean_squared_error(y_test, y_test_pred)\n",
        "mae_test = mean_absolute_error(y_test, y_test_pred)"
      ],
      "metadata": {
        "id": "Sh4kqDPHjE06"
      },
      "execution_count": null,
      "outputs": []
    },
    {
      "cell_type": "markdown",
      "source": [
        "Estas métricas me permiten ver si el modelo funciona bien o si está sobreajustado (memoriza entrenamiento y falla en test)"
      ],
      "metadata": {
        "id": "nBcmMoI2jTVq"
      }
    },
    {
      "cell_type": "code",
      "source": [
        "# 8. Mostramos los resultados\n",
        "print(\"Train - R²:\", r2_train)\n",
        "print(\"Train - MSE:\", mse_train)\n",
        "print(\"Train - MAE:\", mae_train)\n",
        "\n",
        "print(\"Test - R²:\", r2_test)\n",
        "print(\"Test - MSE:\", mse_test)\n",
        "print(\"Test - MAE:\", mae_test)\n",
        "\n",
        "#Comparamos rendimiento en entrenamiento y prueba. Si las métricas son parecidas, el modelo generaliza bien."
      ],
      "metadata": {
        "colab": {
          "base_uri": "https://localhost:8080/"
        },
        "id": "yBEjsYAwjYB1",
        "outputId": "11bde7de-3338-4b85-bdf8-5aefe6c7f2ac"
      },
      "execution_count": null,
      "outputs": [
        {
          "output_type": "stream",
          "name": "stdout",
          "text": [
            "Train - R²: 0.9606825792330811\n",
            "Train - MSE: 971.9843490474103\n",
            "Train - MAE: 20.663060956171257\n",
            "Test - R²: 0.83294410365559\n",
            "Test - MSE: 5008.167201262841\n",
            "Test - MAE: 38.181509741501884\n"
          ]
        }
      ]
    },
    {
      "cell_type": "markdown",
      "source": [
        "**Resultados del modelo**\n",
        "\n",
        "**Conjunto de Entrenamiento (Train):**\n",
        "* R² = 0.96 → El modelo explica el 96% de la variabilidad en los datos de entrenamiento. Muy buen ajuste.\n",
        "\n",
        "* MSE = 971.98 → Error cuadrático medio. En promedio, el modelo se equivoca bastante poco, aunque penaliza más los errores grandes.\n",
        "\n",
        "* MAE = 20.66 → Error absoluto medio. En promedio, el modelo se equivoca por unas 21 unidades de PRP.\n",
        "\n",
        "**Conjunto de Prueba (Test):**\n",
        "* R² = 0.83 → El modelo explica el 83% de la variabilidad en datos nuevos. Es una buena generalización.\n",
        "\n",
        "* MSE = 5008.17 → Este error es mayor que en entrenamiento, lo cual es normal, pero hay que observarlo.\n",
        "\n",
        "* MAE = 38.18 → El error promedio subió, pero sigue dentro de un rango razonable.\n",
        "\n",
        "**¿Qué significa esto?**\n",
        "\n",
        "* El modelo aprendió bien los datos de entrenamiento y también funciona bien en datos nuevos.\n",
        "\n",
        "* Hay algo de diferencia entre train y test, pero no parece estar sobreajustado.\n",
        "\n",
        "* El modelo puede ser útil para predecir el rendimiento relativo (PRP) a partir de las características de la computadora."
      ],
      "metadata": {
        "id": "EnTwJGaZjf02"
      }
    },
    {
      "cell_type": "markdown",
      "source": [
        "\n",
        "## 5. **Importancia de Variables**  \n",
        "   - Analicen los **coeficientes** del modelo:  \n",
        "     - Valores absolutos altos → mayor impacto en el target.  \n",
        "     - Signo: Relación positiva/negativa con el target.  \n",
        "   - Comparen la magnitud de los coeficientes **escalados** (si usaron features en distintas unidades).  \n",
        "   - **5.1. Opcional**:\n",
        "     Otra forma es \"desordenar\" un feature y ver cómo empeora el modelo. Si al desordenarlo el error aumenta mucho, ese feature era importante. Usen métodos como:  \n",
        "     - **Permutation Importance** (de sklearn) para validar importancia. Más info en https://scikit-learn.org/stable/modules/permutation_importance.html\n",
        "\n"
      ],
      "metadata": {
        "id": "YpBHmWkt9Yqm"
      }
    },
    {
      "cell_type": "code",
      "source": [
        "# Como habia guardado los nombres de las columnas antes del escalado\n",
        "feature_names = ['MYCT', 'MMIN', 'MMAX', 'CACH', 'CHMIN', 'CHMAX', 'ERP']  # actualizar si lo llego a cambiar\n",
        "\n",
        "# Ver los coeficientes\n",
        "coeficientes = pd.Series(modelo.coef_, index=feature_names)\n",
        "print(coeficientes.sort_values(ascending=False))"
      ],
      "metadata": {
        "colab": {
          "base_uri": "https://localhost:8080/"
        },
        "id": "ySHViQ4Hk1ZB",
        "outputId": "08fc8b32-322b-4f57-cad8-ff5f68a07b46"
      },
      "execution_count": null,
      "outputs": [
        {
          "output_type": "stream",
          "name": "stdout",
          "text": [
            "ERP      145.645620\n",
            "CACH      30.878123\n",
            "CHMAX     11.413446\n",
            "MMIN       8.603662\n",
            "MYCT      -1.006267\n",
            "CHMIN     -9.426258\n",
            "MMAX     -16.621670\n",
            "dtype: float64\n"
          ]
        }
      ]
    },
    {
      "cell_type": "markdown",
      "source": [
        "**Interpretación de los coeficientes:**\n",
        "* ERP (145.65): Es la variable con el mayor coeficiente positivo. Esto significa que, a medida que aumenta el valor de ERP, el PRP (rendimiento relativo publicado) también aumenta, lo que indica una relación positiva fuerte entre estas dos variables.\n",
        "\n",
        "* CACH (30.88): Esta variable también tiene un coeficiente positivo. Un aumento en CACH (memoria caché) también aumenta el PRP, aunque no tanto como el ERP.\n",
        "\n",
        "* CHMAX (11.41): Tiene un coeficiente positivo, lo que indica que un mayor número de canales máximos mejora el PRP, pero el impacto es menor comparado con ERP y CACH.\n",
        "\n",
        "* MMIN (8.60): Al igual que las anteriores, un aumento en la memoria mínima también tiene un efecto positivo sobre el PRP, pero es menor en comparación con CACH y ERP.\n",
        "\n",
        "* MYCT (-1.01): Este coeficiente es negativo, lo que indica que un mayor tiempo de ciclo de la máquina (MYCT) reduce el PRP. Es decir, más tiempo de ciclo implica peor rendimiento relativo.\n",
        "\n",
        "* CHMIN (-9.43): CHMIN (canales mínimos) tiene un coeficiente negativo, lo que sugiere que menos canales tienden a disminuir el PRP.\n",
        "\n",
        "* MMAX (-16.62): La memoria máxima tiene un coeficiente negativo, lo que puede ser algo sorprendente a primera vista. Esto sugiere que, en este modelo, un aumento en la memoria máxima está asociado a una reducción en el PRP, lo cual puede deberse a que no hay una relación directa o que el modelo ha aprendido otras interacciones que no son tan evidentes.\n",
        "\n",
        "**Resumen:**\n",
        "* Variables con impacto positivo: ERP, CACH, CHMAX, MMIN.\n",
        "\n",
        "* Variables con impacto negativo: MYCT, CHMIN, MMAX.\n",
        "\n",
        "* Mayor impacto en PRP: ERP tiene el mayor coeficiente, seguido por CACH."
      ],
      "metadata": {
        "id": "KB2QLPlbmfcL"
      }
    },
    {
      "cell_type": "markdown",
      "source": [
        "\n",
        "## 6. **Reflexión**  \n",
        "   - ¿Cuáles variables son más importantes según el modelo? ¿Coincide con su análisis exploratorio?  \n",
        "   - ¿El modelo tiene buen rendimiento (R² alto, MSE bajo)? Si no, ¿a qué podría deberse?  \n",
        "\n"
      ],
      "metadata": {
        "id": "W1TnsxX69h3C"
      }
    },
    {
      "cell_type": "markdown",
      "source": [
        "1. 1. ¿Cuáles variables son más importantes según el modelo?\n",
        "\n",
        "Según los coeficientes obtenidos, las variables más importantes (con mayor impacto en el PRP) son:\n",
        "\n",
        "* ERP (con un coeficiente de 145.65), que tiene el mayor impacto positivo en el rendimiento relativo publicado (PRP).\n",
        "\n",
        "* CACH (con un coeficiente de 30.88), también con un impacto positivo, aunque menor que ERP.\n",
        "\n",
        "Las variables con impacto negativo incluyen:\n",
        "\n",
        "* MYCT (tiempo de ciclo de la máquina) con un coeficiente de -1.01.\n",
        "\n",
        "* CHMIN (canales mínimos) con un coeficiente de -9.43.\n",
        "\n",
        "* MMAX (memoria máxima) con un coeficiente de -16.62.\n",
        "\n",
        "Las variables que tienen un coeficiente positivo son ERP, CACH, CHMAX, y MMIN, mientras que las negativas son MYCT, CHMIN, y MMAX. En general, ERP y CACH parecen ser las variables más relevantes para predecir el rendimiento, mientras que MMAX tiene un coeficiente negativo que puede parecer sorprendente y debería ser analizado más a fondo (posiblemente debido a interacciones no lineales o efectos colaterales que el modelo ha aprendido).\n",
        "\n",
        "1. 2. ¿Coincide con su análisis exploratorio?\n",
        "\n",
        "El análisis exploratorio me permitió observar las distribuciones y las relaciones preliminares entre las características y el objetivo. Al observar los coeficientes y su relación con el PRP:\n",
        "\n",
        "* En el análisis exploratorio se vio que algunas variables parecían tener una relación directa con el rendimiento, como ERP y CACH, lo cual coincide con los resultados obtenidos en el modelo.\n",
        "\n",
        "* Sin embargo, algunas variables como MMAX tienen un comportamiento inesperado (coeficiente negativo), lo que podría no haber sido evidente en el análisis exploratorio. Esto podría deberse a interacciones complejas entre las características que el modelo de regresión ha capturado.\n",
        "\n",
        "2. ¿El modelo tiene buen rendimiento (R² alto, MSE bajo)?\n",
        "\n",
        "* R² (0.96 en entrenamiento y 0.83 en prueba): El modelo tiene un R² bastante alto, lo que significa que explica una gran parte de la variabilidad en el PRP. Sin embargo, hay una caída de R² al pasar del entrenamiento al test, lo que sugiere que el modelo se ajustó muy bien a los datos de entrenamiento pero tiene algo de overfitting.\n",
        "\n",
        "* MSE (971.98 en entrenamiento y 5008.17 en prueba): El MSE es bajo en entrenamiento, pero aumenta considerablemente en el conjunto de prueba, lo que refuerza la idea de overfitting. El modelo funciona muy bien con los datos con los que fue entrenado, pero no generaliza tan bien en datos no vistos.\n",
        "\n",
        "Posibles razones para el rendimiento:\n",
        "\n",
        "* Overfitting: El modelo ha aprendido demasiado bien los datos de entrenamiento, incluyendo el ruido.\n",
        "\n",
        "* Características colineales: Algunas de las variables pueden estar correlacionadas entre sí, lo que puede afectar la capacidad del modelo para generalizar correctamente.\n",
        "\n",
        "* Outliers: La presencia de outliers podría haber afectado el rendimiento del modelo, especialmente porque estamos trabajando con regresión lineal, que es sensible a los valores extremos.\n",
        "\n",
        "Mejoras posibles:\n",
        "\n",
        "* Regularización: Podríamos aplicar Ridge o Lasso para penalizar los coeficientes grandes y evitar el overfitting.\n",
        "\n",
        "* Validación cruzada: Usar cross-validation para evaluar el modelo de manera más robusta.\n",
        "\n",
        "* Exploración de interacciones: Considerar si las relaciones entre las variables son realmente lineales o si se deben explorar interacciones o transformaciones adicionales.\n",
        "\n",
        "* Tratamiento de outliers: Identificar y tratar los outliers de manera adecuada.\n",
        "\n",
        "En resumen, el modelo tiene un buen rendimiento en términos de R², pero hay signos de overfitting, lo que hace que el rendimiento en los datos de prueba no sea tan bueno como en los de entrenamiento. Podría mejorar el modelo con técnicas adicionales de regularización y validación cruzada."
      ],
      "metadata": {
        "id": "0XIqdjfRnOrL"
      }
    },
    {
      "cell_type": "markdown",
      "source": [
        "\n",
        "## **Bonus**:  \n",
        "- Prueben eliminar variables \"poco importantes\" y reentrenar el modelo. ¿Mejora el rendimiento?  "
      ],
      "metadata": {
        "id": "cM2tFQD39LsU"
      }
    },
    {
      "cell_type": "code",
      "source": [
        "# Convertimos las matrices de numpy a DataFrame\n",
        "X_train_df = pd.DataFrame(X_train, columns=X.columns)\n",
        "X_test_df = pd.DataFrame(X_test, columns=X.columns)\n",
        "\n",
        "# Eliminamos las columnas poco importantes ('MMAX', 'CHMIN')\n",
        "X_train_reducido = X_train_df.drop(columns=['MMAX', 'CHMIN'])\n",
        "X_test_reducido = X_test_df.drop(columns=['MMAX', 'CHMIN'])\n",
        "\n",
        "# Reentrenamos el modelo con las variables reducidas\n",
        "modelo_reducido = LinearRegression()\n",
        "modelo_reducido.fit(X_train_reducido, y_train)\n",
        "\n",
        "# Evaluamos el rendimiento del modelo reducido\n",
        "y_train_pred_reducido = modelo_reducido.predict(X_train_reducido)\n",
        "y_test_pred_reducido = modelo_reducido.predict(X_test_reducido)\n",
        "\n",
        "# Cálculo de las métricas para el modelo reducido\n",
        "r2_train_reducido = r2_score(y_train, y_train_pred_reducido)\n",
        "mse_train_reducido = mean_squared_error(y_train, y_train_pred_reducido)\n",
        "mae_train_reducido = mean_absolute_error(y_train, y_train_pred_reducido)\n",
        "\n",
        "r2_test_reducido = r2_score(y_test, y_test_pred_reducido)\n",
        "mse_test_reducido = mean_squared_error(y_test, y_test_pred_reducido)\n",
        "mae_test_reducido = mean_absolute_error(y_test, y_test_pred_reducido)\n",
        "\n",
        "# Resultados para el modelo reducido\n",
        "print(\"Modelo Reducido\")\n",
        "print(f\"Train - R²: {r2_train_reducido}\")\n",
        "print(f\"Train - MSE: {mse_train_reducido}\")\n",
        "print(f\"Train - MAE: {mae_train_reducido}\")\n",
        "print(f\"Test - R²: {r2_test_reducido}\")\n",
        "print(f\"Test - MSE: {mse_test_reducido}\")\n",
        "print(f\"Test - MAE: {mae_test_reducido}\")\n"
      ],
      "metadata": {
        "colab": {
          "base_uri": "https://localhost:8080/"
        },
        "id": "UZaH3_E7pwMB",
        "outputId": "18cb9d11-48f4-4241-9c29-bf121445b2db"
      },
      "execution_count": null,
      "outputs": [
        {
          "output_type": "stream",
          "name": "stdout",
          "text": [
            "Modelo Reducido\n",
            "Train - R²: 0.9569273264120954\n",
            "Train - MSE: 1064.8197105110319\n",
            "Train - MAE: 21.32127081323388\n",
            "Test - R²: 0.8600260546335473\n",
            "Test - MSE: 4196.277638535939\n",
            "Test - MAE: 35.978425678149726\n"
          ]
        }
      ]
    },
    {
      "cell_type": "markdown",
      "source": [
        "**Explicación de lo que se hace:**\n",
        "* Convertir a DataFrame: Convertimos X_train y X_test a DataFrames de pandas usando pd.DataFrame(). Esto nos permite acceder a las columnas por nombre (como 'MMAX' y 'CHMIN'), que es necesario para el método .drop().\n",
        "\n",
        "* Eliminar columnas: Usamos drop() para eliminar las columnas MMAX y CHMIN del conjunto de entrenamiento (X_train_reducido) y del conjunto de prueba (X_test_reducido).\n",
        "\n",
        "* Entrenar el modelo: Reentrenamos el modelo con las variables reducidas y calculamos las métricas de rendimiento (R², MSE, MAE)."
      ],
      "metadata": {
        "id": "CLRh6U9VqXUE"
      }
    },
    {
      "cell_type": "markdown",
      "source": [
        "**Conclusiones del modelo reducido:**\n",
        "* El modelo reducido mejora el rendimiento sobre el set de testeo, lo que sugiere que al eliminar variables poco útiles, el modelo generaliza mejor.\n",
        "\n",
        "* La diferencia en entrenamiento es mínima, así que no estás perdiendo capacidad predictiva.\n",
        "\n",
        "* Es una práctica muy buena eliminar variables poco relevantes para reducir complejidad y evitar sobreajuste (overfitting).\n",
        "\n",
        "Al eliminar las variables MMAX y CHMIN, el modelo logró un mejor rendimiento en el conjunto de testeo. Esto indica que dichas variables no aportaban mucho al modelo y posiblemente generaban ruido. El modelo reducido es más simple y generaliza mejor."
      ],
      "metadata": {
        "id": "i9U3UBixqn_R"
      }
    },
    {
      "cell_type": "code",
      "source": [
        "import pandas as pd\n",
        "\n",
        "# Creo un diccionario con los resultados\n",
        "resultados = {\n",
        "    \"Métrica\": [\"Train R²\", \"Test R²\", \"Train MSE\", \"Test MSE\", \"Train MAE\", \"Test MAE\"],\n",
        "    \"Modelo Completo\": [0.9607, 0.8329, 971.98, 5008.17, 20.66, 38.18],\n",
        "    \"Modelo Reducido\": [0.9569, 0.8600, 1064.82, 4196.28, 21.32, 35.98]\n",
        "}\n",
        "\n",
        "# Lo convierto en un DataFrame\n",
        "tabla_comparativa = pd.DataFrame(resultados)\n",
        "\n",
        "# Muestro la tabla\n",
        "print(tabla_comparativa)\n"
      ],
      "metadata": {
        "colab": {
          "base_uri": "https://localhost:8080/"
        },
        "id": "9uTxSAMHrDeZ",
        "outputId": "a357b070-5202-4105-8ed4-2ac18f19a738"
      },
      "execution_count": null,
      "outputs": [
        {
          "output_type": "stream",
          "name": "stdout",
          "text": [
            "     Métrica  Modelo Completo  Modelo Reducido\n",
            "0   Train R²           0.9607           0.9569\n",
            "1    Test R²           0.8329           0.8600\n",
            "2  Train MSE         971.9800        1064.8200\n",
            "3   Test MSE        5008.1700        4196.2800\n",
            "4  Train MAE          20.6600          21.3200\n",
            "5   Test MAE          38.1800          35.9800\n"
          ]
        }
      ]
    },
    {
      "cell_type": "markdown",
      "source": [
        "\n",
        "---\n",
        "\n",
        "### **Tips**:  \n",
        "- Si el R² es muy bajo, revisen si hay relaciones no lineales (y consideren transformar features).  \n",
        "- Documenten cada paso: ¡la trazabilidad es clave en ciencia de datos!  \n"
      ],
      "metadata": {
        "id": "_kTXcnnw9vQB"
      }
    }
  ]
}